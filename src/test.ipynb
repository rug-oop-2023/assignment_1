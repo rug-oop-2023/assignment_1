{
 "cells": [
  {
   "cell_type": "code",
   "execution_count": 6,
   "metadata": {},
   "outputs": [],
   "source": [
    "from multiple_linear_regression import MultipleLinearRegression\n",
    "import pandas as pd\n",
    "import numpy as np\n",
    "from sklearn.datasets import load_diabetes"
   ]
  },
  {
   "cell_type": "code",
   "execution_count": 7,
   "metadata": {},
   "outputs": [],
   "source": [
    "data = load_diabetes()"
   ]
  },
  {
   "cell_type": "code",
   "execution_count": 8,
   "metadata": {},
   "outputs": [],
   "source": [
    "X = data['data']\n",
    "Y = data['target']"
   ]
  },
  {
   "cell_type": "code",
   "execution_count": 9,
   "metadata": {},
   "outputs": [],
   "source": [
    "model = MultipleLinearRegression(n_dims=X.shape[1])\n",
    "model.train(X, Y)"
   ]
  },
  {
   "cell_type": "code",
   "execution_count": 10,
   "metadata": {},
   "outputs": [
    {
     "name": "stdout",
     "output_type": "stream",
     "text": [
      "Mean Squared Error : 2859.6963475867506\n"
     ]
    }
   ],
   "source": [
    "predictions = model.predict(X)\n",
    "\n",
    "mse = np.square(Y - predictions).mean()\n",
    "\n",
    "print(f'Mean Squared Error : {mse}')"
   ]
  },
  {
   "cell_type": "code",
   "execution_count": 13,
   "metadata": {},
   "outputs": [
    {
     "ename": "AssertionError",
     "evalue": "Wrong input dimensions",
     "output_type": "error",
     "traceback": [
      "\u001b[0;31m---------------------------------------------------------------------------\u001b[0m",
      "\u001b[0;31mAssertionError\u001b[0m                            Traceback (most recent call last)",
      "\u001b[1;32m/Users/marek/RUG/OOP/assignment_1/src/test.ipynb Cell 6\u001b[0m line \u001b[0;36m4\n\u001b[1;32m      <a href='vscode-notebook-cell:/Users/marek/RUG/OOP/assignment_1/src/test.ipynb#W5sZmlsZQ%3D%3D?line=0'>1</a>\u001b[0m \u001b[39mfrom\u001b[39;00m \u001b[39mregression_plotter\u001b[39;00m \u001b[39mimport\u001b[39;00m ReggresionPlotter\n\u001b[1;32m      <a href='vscode-notebook-cell:/Users/marek/RUG/OOP/assignment_1/src/test.ipynb#W5sZmlsZQ%3D%3D?line=2'>3</a>\u001b[0m plot \u001b[39m=\u001b[39m ReggresionPlotter(model \u001b[39m=\u001b[39m model)\n\u001b[0;32m----> <a href='vscode-notebook-cell:/Users/marek/RUG/OOP/assignment_1/src/test.ipynb#W5sZmlsZQ%3D%3D?line=3'>4</a>\u001b[0m plot\u001b[39m.\u001b[39;49mplot_two_features(X, Y)\n",
      "File \u001b[0;32m~/RUG/OOP/assignment_1/src/regression_plotter.py:20\u001b[0m, in \u001b[0;36mReggresionPlotter.plot_two_features\u001b[0;34m(self, X, Y)\u001b[0m\n\u001b[1;32m     19\u001b[0m \u001b[39mdef\u001b[39;00m \u001b[39mplot_two_features\u001b[39m(\u001b[39mself\u001b[39m, X, Y):\n\u001b[0;32m---> 20\u001b[0m     \u001b[39massert\u001b[39;00m X\u001b[39m.\u001b[39mshape[\u001b[39m1\u001b[39m] \u001b[39m==\u001b[39m \u001b[39m2\u001b[39m, \u001b[39m'\u001b[39m\u001b[39mWrong input dimensions\u001b[39m\u001b[39m'\u001b[39m\n\u001b[1;32m     22\u001b[0m     Y \u001b[39m=\u001b[39m Y\u001b[39m.\u001b[39mreshape((\u001b[39m-\u001b[39m\u001b[39m1\u001b[39m, \u001b[39m1\u001b[39m))\n\u001b[1;32m     24\u001b[0m     predictions \u001b[39m=\u001b[39m \u001b[39mself\u001b[39m\u001b[39m.\u001b[39mmodel\u001b[39m.\u001b[39mpredict(X)\n",
      "\u001b[0;31mAssertionError\u001b[0m: Wrong input dimensions"
     ]
    }
   ],
   "source": [
    "from regression_plotter import ReggresionPlotter\n",
    "\n",
    "plot = ReggresionPlotter(model = model)\n",
    "plot.plot_two_features(X, Y)"
   ]
  }
 ],
 "metadata": {
  "kernelspec": {
   "display_name": "global",
   "language": "python",
   "name": "python3"
  },
  "language_info": {
   "codemirror_mode": {
    "name": "ipython",
    "version": 3
   },
   "file_extension": ".py",
   "mimetype": "text/x-python",
   "name": "python",
   "nbconvert_exporter": "python",
   "pygments_lexer": "ipython3",
   "version": "3.9.6"
  }
 },
 "nbformat": 4,
 "nbformat_minor": 2
}
