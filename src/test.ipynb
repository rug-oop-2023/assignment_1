{
 "cells": [
  {
   "cell_type": "code",
   "execution_count": 16,
   "metadata": {},
   "outputs": [],
   "source": [
    "from multiple_linear_regression import MultipleLinearRegression\n",
    "import pandas as pd\n",
    "import numpy as np"
   ]
  },
  {
   "cell_type": "code",
   "execution_count": 17,
   "metadata": {},
   "outputs": [
    {
     "data": {
      "text/plain": [
       "Index(['Country', 'Year', 'Status', 'Life expectancy ', 'Adult Mortality',\n",
       "       'infant deaths', 'Alcohol', 'percentage expenditure', 'Hepatitis B',\n",
       "       'Measles ', ' BMI ', 'under-five deaths ', 'Polio', 'Total expenditure',\n",
       "       'Diphtheria ', ' HIV/AIDS', 'GDP', 'Population',\n",
       "       ' thinness  1-19 years', ' thinness 5-9 years',\n",
       "       'Income composition of resources', 'Schooling'],\n",
       "      dtype='object')"
      ]
     },
     "execution_count": 17,
     "metadata": {},
     "output_type": "execute_result"
    }
   ],
   "source": [
    "data = pd.read_csv('Life Expectancy Data.csv.xls', sep=\",\")\n",
    "data.columns"
   ]
  },
  {
   "cell_type": "code",
   "execution_count": 18,
   "metadata": {},
   "outputs": [],
   "source": [
    "data = data.dropna()"
   ]
  },
  {
   "cell_type": "code",
   "execution_count": 19,
   "metadata": {},
   "outputs": [
    {
     "data": {
      "text/plain": [
       "(1649, 6)"
      ]
     },
     "execution_count": 19,
     "metadata": {},
     "output_type": "execute_result"
    }
   ],
   "source": [
    "x = np.array(data[\n",
    "    [\n",
    "        'Adult Mortality',\n",
    "        'infant deaths',\n",
    "        'percentage expenditure',\n",
    "        'Alcohol',\n",
    "        'GDP',\n",
    "        'Total expenditure'\n",
    "     ]\n",
    "]\n",
    ")\n",
    "x.shape"
   ]
  },
  {
   "cell_type": "code",
   "execution_count": 20,
   "metadata": {},
   "outputs": [
    {
     "data": {
      "text/plain": [
       "(1649,)"
      ]
     },
     "execution_count": 20,
     "metadata": {},
     "output_type": "execute_result"
    }
   ],
   "source": [
    "y = np.array(data['Life expectancy '])\n",
    "y.shape"
   ]
  },
  {
   "cell_type": "code",
   "execution_count": 21,
   "metadata": {},
   "outputs": [
    {
     "data": {
      "text/plain": [
       "array([[2.63000000e+02, 2.71000000e+02, 2.68000000e+02, ...,\n",
       "        7.30000000e+01, 6.86000000e+02, 6.65000000e+02],\n",
       "       [6.20000000e+01, 6.40000000e+01, 6.60000000e+01, ...,\n",
       "        2.50000000e+01, 2.50000000e+01, 2.40000000e+01],\n",
       "       [7.12796236e+01, 7.35235817e+01, 7.32192427e+01, ...,\n",
       "        0.00000000e+00, 0.00000000e+00, 0.00000000e+00],\n",
       "       [1.00000000e-02, 1.00000000e-02, 1.00000000e-02, ...,\n",
       "        4.43000000e+00, 1.72000000e+00, 1.68000000e+00],\n",
       "       [5.84259210e+02, 6.12696514e+02, 6.31744976e+02, ...,\n",
       "        5.73483400e+01, 5.48587312e+02, 5.47358878e+02],\n",
       "       [8.16000000e+00, 8.18000000e+00, 8.13000000e+00, ...,\n",
       "        6.53000000e+00, 6.16000000e+00, 7.10000000e+00]])"
      ]
     },
     "execution_count": 21,
     "metadata": {},
     "output_type": "execute_result"
    }
   ],
   "source": [
    "x.T"
   ]
  },
  {
   "cell_type": "code",
   "execution_count": 22,
   "metadata": {},
   "outputs": [],
   "source": [
    "model = MultipleLinearRegression()\n",
    "model.train(x, y)"
   ]
  },
  {
   "cell_type": "code",
   "execution_count": 25,
   "metadata": {},
   "outputs": [],
   "source": [
    "arr = [\n",
    "    [4, 10],\n",
    "    [3, 30]\n",
    "]\n",
    "arr = np.array(arr).astype(np.float64)"
   ]
  },
  {
   "cell_type": "code",
   "execution_count": 28,
   "metadata": {},
   "outputs": [
    {
     "data": {
      "text/plain": [
       "array([[ 1.,  1.],\n",
       "       [ 4.,  3.],\n",
       "       [10., 30.]])"
      ]
     },
     "execution_count": 28,
     "metadata": {},
     "output_type": "execute_result"
    }
   ],
   "source": [
    "np.insert(arr, 0, np.array([1.0, 1.0]), axis=1).T"
   ]
  },
  {
   "cell_type": "code",
   "execution_count": 10,
   "metadata": {},
   "outputs": [
    {
     "data": {
      "text/plain": [
       "array([[ 7.32407122e+01],\n",
       "       [-4.30990313e-02],\n",
       "       [-7.20990573e-03],\n",
       "       [-4.89857905e-04],\n",
       "       [ 4.26850252e-01],\n",
       "       [ 2.11700499e-04],\n",
       "       [ 1.30169989e-01]])"
      ]
     },
     "execution_count": 10,
     "metadata": {},
     "output_type": "execute_result"
    }
   ],
   "source": [
    "model.get_weights()"
   ]
  },
  {
   "cell_type": "code",
   "execution_count": 11,
   "metadata": {},
   "outputs": [
    {
     "data": {
      "text/plain": [
       "array([[1.00000000e+00, 2.63000000e+02, 6.20000000e+01, ...,\n",
       "        1.00000000e-02, 5.84259210e+02, 8.16000000e+00],\n",
       "       [1.00000000e+00, 2.71000000e+02, 6.40000000e+01, ...,\n",
       "        1.00000000e-02, 6.12696514e+02, 8.18000000e+00],\n",
       "       [1.00000000e+00, 2.68000000e+02, 6.60000000e+01, ...,\n",
       "        1.00000000e-02, 6.31744976e+02, 8.13000000e+00],\n",
       "       ...,\n",
       "       [1.00000000e+00, 7.30000000e+01, 2.50000000e+01, ...,\n",
       "        4.43000000e+00, 5.73483400e+01, 6.53000000e+00],\n",
       "       [1.00000000e+00, 6.86000000e+02, 2.50000000e+01, ...,\n",
       "        1.72000000e+00, 5.48587312e+02, 6.16000000e+00],\n",
       "       [1.00000000e+00, 6.65000000e+02, 2.40000000e+01, ...,\n",
       "        1.68000000e+00, 5.47358878e+02, 7.10000000e+00]])"
      ]
     },
     "execution_count": 11,
     "metadata": {},
     "output_type": "execute_result"
    }
   ],
   "source": [
    "model.get_features()"
   ]
  },
  {
   "cell_type": "code",
   "execution_count": 12,
   "metadata": {},
   "outputs": [
    {
     "data": {
      "text/plain": [
       "42126615.0450344"
      ]
     },
     "execution_count": 12,
     "metadata": {},
     "output_type": "execute_result"
    }
   ],
   "source": [
    "model.evaluate(x, y)"
   ]
  }
 ],
 "metadata": {
  "kernelspec": {
   "display_name": "global",
   "language": "python",
   "name": "python3"
  },
  "language_info": {
   "codemirror_mode": {
    "name": "ipython",
    "version": 3
   },
   "file_extension": ".py",
   "mimetype": "text/x-python",
   "name": "python",
   "nbconvert_exporter": "python",
   "pygments_lexer": "ipython3",
   "version": "3.9.6"
  }
 },
 "nbformat": 4,
 "nbformat_minor": 2
}
